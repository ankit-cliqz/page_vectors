{
 "cells": [
  {
   "cell_type": "markdown",
   "metadata": {},
   "source": [
    "# Doc2Vec to wikipedia articles"
   ]
  },
  {
   "cell_type": "markdown",
   "metadata": {},
   "source": [
    "We conduct the similar experiment to **Document Embedding with Paragraph Vectors** (http://arxiv.org/abs/1507.07998)."
   ]
  },
  {
   "cell_type": "markdown",
   "metadata": {},
   "source": [
    "## Basic Setup"
   ]
  },
  {
   "cell_type": "markdown",
   "metadata": {},
   "source": [
    "Let's import Doc2Vec module."
   ]
  },
  {
   "cell_type": "code",
   "execution_count": 1,
   "metadata": {
    "collapsed": true
   },
   "outputs": [],
   "source": [
    "import multiprocessing\n",
    "from gensim.corpora.wikicorpus import WikiCorpus\n",
    "from gensim.models.doc2vec import Doc2Vec, TaggedDocument"
   ]
  },
  {
   "cell_type": "markdown",
   "metadata": {},
   "source": [
    "## Preparing the corpus"
   ]
  },
  {
   "cell_type": "markdown",
   "metadata": {},
   "source": [
    "First, download the dump of all Wikipedia articles from [here](http://download.wikimedia.org/enwiki/) (you want the file enwiki-latest-pages-articles.xml.bz2, or enwiki-YYYYMMDD-pages-articles.xml.bz2 for date-specific dumps).\n",
    "\n",
    "Second, convert the articles to WikiCorpus. WikiCorpus construct a corpus from a Wikipedia (or other MediaWiki-based) database dump.\n",
    "\n",
    "For more details on WikiCorpus, you should access [Corpus from a Wikipedia dump](https://radimrehurek.com/gensim/corpora/wikicorpus.html)."
   ]
  },
  {
   "cell_type": "code",
   "execution_count": 2,
   "metadata": {
    "collapsed": false
   },
   "outputs": [],
   "source": [
    "wiki = WikiCorpus(\"enwiki-latest-pages-articles.xml.bz2\")\n",
    "wiki = WikiCorpus(\"enwiki-YYYYMMDD-pages-articles.xml.bz2\")\n",
    "wiki.save(\"enwikicorpus\")\n",
    "#wiki = WikiCorpus.load(\"enwikicorpus\")"
   ]
  },
  {
   "cell_type": "markdown",
   "metadata": {},
   "source": [
    "Define **TaggedWikiDocument** class to convert WikiCorpus into suitable form for Doc2Vec."
   ]
  },
  {
   "cell_type": "code",
   "execution_count": 3,
   "metadata": {
    "collapsed": true
   },
   "outputs": [],
   "source": [
    "class TaggedWikiDocument(object):\n",
    "    def __init__(self, wiki):\n",
    "        self.wiki = wiki\n",
    "        self.wiki.metadata = True\n",
    "    def __iter__(self):\n",
    "        for content, (page_id, title) in self.wiki.get_texts():\n",
    "            yield TaggedDocument([c.decode(\"utf-8\") for c in content], [title])"
   ]
  },
  {
   "cell_type": "markdown",
   "metadata": {},
   "source": [
    "## Training the Doc2Vec Model"
   ]
  },
  {
   "cell_type": "markdown",
   "metadata": {},
   "source": [
    "Now we’re ready to compute Doc2Vec of the English Wikipedia."
   ]
  },
  {
   "cell_type": "code",
   "execution_count": 4,
   "metadata": {
    "collapsed": false
   },
   "outputs": [],
   "source": [
    "documents = TaggedWikiDocument(wiki)\n",
    "d2v = Doc2Vec(documents, size=500, window=8, min_count=5, workers=multiprocessing.cpu_count())\n",
    "d2v.save(\"d2v\")\n",
    "#d2v = Doc2Vec.load(\"d2v\")"
   ]
  },
  {
   "cell_type": "markdown",
   "metadata": {},
   "source": [
    "## Similarity interface"
   ]
  },
  {
   "cell_type": "markdown",
   "metadata": {},
   "source": [
    "First, calculating cosine simillarity of **\"Lady Gaga\"** using Document Vector. Word Vector and Document Vector are separately stored. We have to add **.docvecs** after model name to extract Document Vector from Doc2Vec Model."
   ]
  },
  {
   "cell_type": "code",
   "execution_count": 31,
   "metadata": {
    "collapsed": false,
    "scrolled": false
   },
   "outputs": [
    {
     "data": {
      "text/plain": [
       "[('The Fame Monster', 0.4721682071685791),\n",
       " ('List of awards and nominations received by Lady Gaga', 0.4562109112739563),\n",
       " ('The Fame', 0.45485830307006836),\n",
       " ('Born This Way (song)', 0.45266470313072205),\n",
       " ('Beautiful, Dirty, Rich', 0.4488331377506256),\n",
       " ('Lisa Goes Gaga', 0.4479030966758728),\n",
       " ('Born This Way Foundation', 0.4456796646118164),\n",
       " ('Just Dance (song)', 0.4308058023452759),\n",
       " ('Bad Romance', 0.4264294505119324),\n",
       " ('Marry the Night', 0.42452168464660645),\n",
       " ('LoveGame', 0.42279836535453796),\n",
       " ('Alejandro (song)', 0.4224458932876587),\n",
       " ('The Monster Ball Tour', 0.4190131723880768),\n",
       " ('Poker Face (Lady Gaga song)', 0.4150453805923462),\n",
       " ('Aura (song)', 0.41388726234436035),\n",
       " ('Haus of Gaga', 0.41266217827796936),\n",
       " ('G.U.Y.', 0.412364661693573),\n",
       " ('Hair (Lady Gaga song)', 0.4060732424259186),\n",
       " ('Fame Kills: Starring Kanye West and Lady Gaga', 0.40446993708610535),\n",
       " ('Janet Jackson', 0.4010123014450073),\n",
       " ('Born This Way (album)', 0.4006291627883911),\n",
       " ('You and I (Lady Gaga song)', 0.3989211320877075),\n",
       " ('Artpop', 0.39873528480529785),\n",
       " ('Dope (Lady Gaga song)', 0.39568421244621277),\n",
       " ('Judas (Lady Gaga song)', 0.3956085741519928),\n",
       " ('Paparazzi (Lady Gaga song)', 0.39341670274734497),\n",
       " ('ArtRave', 0.39262324571609497),\n",
       " ('Telephone (song)', 0.39024221897125244),\n",
       " (\"Lady Gaga's meat dress\", 0.3862271010875702),\n",
       " ('So Happy I Could Die', 0.38467419147491455)]"
      ]
     },
     "execution_count": 31,
     "metadata": {},
     "output_type": "execute_result"
    }
   ],
   "source": [
    "d2v.docvecs.most_similar(positive=[\"Lady Gaga\"], topn=30)"
   ]
  },
  {
   "cell_type": "markdown",
   "metadata": {},
   "source": [
    "Second, calculating cosine simillarity of **\"Lady Gaga\" - \"American\" + \"Japanese\"** using Document vector and Word Vectors. \"American\" and \"Japanese\" are Word Vectors, not Paragraph Vectors. Word Vectors are already converted to lowercases by WikiCorpus."
   ]
  },
  {
   "cell_type": "code",
   "execution_count": 14,
   "metadata": {
    "collapsed": false
   },
   "outputs": [
    {
     "data": {
      "text/plain": [
       "[('The Fame Monster', 0.3138265907764435),\n",
       " ('Aura (song)', 0.3118044137954712),\n",
       " ('Lisa Goes Gaga', 0.3084213137626648),\n",
       " ('Venus (Lady Gaga song)', 0.3026971220970154),\n",
       " ('Born This Way (song)', 0.30016905069351196),\n",
       " ('Judas (Lady Gaga song)', 0.2984205186367035),\n",
       " ('Marry the Night', 0.2962271571159363),\n",
       " ('Beautiful, Dirty, Rich', 0.2950041890144348),\n",
       " ('G.U.Y.', 0.2893539071083069),\n",
       " ('List of awards and nominations received by Lady Gaga', 0.2887462377548218),\n",
       " ('Hime (rapper)', 0.2820761203765869),\n",
       " ('Feel (Kumi Koda song)', 0.281485915184021),\n",
       " ('Kokia (singer)', 0.2808469831943512),\n",
       " ('Lady Gaga discography', 0.2800357937812805),\n",
       " ('LoveGame', 0.2782258689403534),\n",
       " ('Nōdōteki Sanpunkan', 0.27804940938949585),\n",
       " ('J-pop', 0.2755916714668274),\n",
       " ('The Fame', 0.2755494713783264),\n",
       " ('Bad Romance', 0.27365168929100037),\n",
       " ('Born This Way (album)', 0.27221694588661194),\n",
       " ('Just Dance (song)', 0.27107709646224976),\n",
       " ('Alizée', 0.26866328716278076),\n",
       " ('Poker Face (Lady Gaga song)', 0.26678144931793213),\n",
       " ('Ryūkōka', 0.2658289074897766),\n",
       " ('Haus of Gaga', 0.26510658860206604),\n",
       " ('Lady Gaga Live at Roseland Ballroom', 0.2650669515132904),\n",
       " ('My Little Pony: Friendship Is Magic fandom', 0.2645110487937927),\n",
       " ('This Is the One', 0.2643801271915436),\n",
       " ('Hair (Lady Gaga song)', 0.2640685439109802),\n",
       " ('Speechless (Lady Gaga song)', 0.2623569667339325)]"
      ]
     },
     "execution_count": 14,
     "metadata": {},
     "output_type": "execute_result"
    }
   ],
   "source": [
    "gagavec = d2v.docvecs[\"Lady Gaga\"]\n",
    "jpvec = d2v[\"japanese\"]\n",
    "amvec = d2v[\"american\"]\n",
    "[sim for sim in d2v.docvecs.most_similar([gagavec - amvec + jpvec],topn=31) if sim[0] != \"Lady Gaga\"]"
   ]
  }
 ],
 "metadata": {
  "kernelspec": {
   "display_name": "Python 3",
   "language": "python",
   "name": "python3"
  },
  "language_info": {
   "codemirror_mode": {
    "name": "ipython",
    "version": 3
   },
   "file_extension": ".py",
   "mimetype": "text/x-python",
   "name": "python",
   "nbconvert_exporter": "python",
   "pygments_lexer": "ipython3",
   "version": "3.5.1"
  }
 },
 "nbformat": 4,
 "nbformat_minor": 0
}
